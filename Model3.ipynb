{
 "cells": [
  {
   "cell_type": "code",
   "execution_count": 1,
   "id": "de9d98a4",
   "metadata": {},
   "outputs": [],
   "source": [
    "from keras.models import Sequential\n",
    "from keras.layers import Convolution2D\n",
    "from keras.layers import MaxPooling2D\n",
    "from keras.layers import Flatten\n",
    "from keras.layers import Dense"
   ]
  },
  {
   "cell_type": "markdown",
   "id": "24869cf2",
   "metadata": {},
   "source": [
    "# preprocessing"
   ]
  },
  {
   "cell_type": "code",
   "execution_count": 4,
   "id": "8f1de9f4",
   "metadata": {},
   "outputs": [
    {
     "name": "stdout",
     "output_type": "stream",
     "text": [
      "Found 2572 images belonging to 2 classes.\n"
     ]
    }
   ],
   "source": [
    "from keras.preprocessing.image import ImageDataGenerator\n",
    "train_datagen = ImageDataGenerator(rotation_range=40,\n",
    "                                     width_shift_range=0.2,\n",
    "                                     height_shift_range=0.2,\n",
    "                                  rescale=1./255,\n",
    "                                  shear_range=0.2,\n",
    "                                   zoom_range=0.2,\n",
    "                                    horizontal_flip=True,\n",
    "                                   fill_mode='nearest')\n",
    "# test_datagen = ImageDataGenerator(rescale = 1./255)\n",
    "\n",
    "training= train_datagen.flow_from_directory('C:/Users/nx1766/Desktop/classes',\n",
    "target_size = (256,256),batch_size =16,\n",
    "classes=['Failure','Non Failure'],class_mode = 'binary',save_format='jpg') #/content/data/FFFFailure"
   ]
  },
  {
   "cell_type": "markdown",
   "id": "27ca184a",
   "metadata": {},
   "source": [
    "# CNN Model"
   ]
  },
  {
   "cell_type": "code",
   "execution_count": 5,
   "id": "143c3f00",
   "metadata": {},
   "outputs": [
    {
     "name": "stdout",
     "output_type": "stream",
     "text": [
      "Model: \"sequential\"\n",
      "_________________________________________________________________\n",
      "Layer (type)                 Output Shape              Param #   \n",
      "=================================================================\n",
      "conv2d (Conv2D)              (None, 85, 85, 32)        896       \n",
      "_________________________________________________________________\n",
      "max_pooling2d (MaxPooling2D) (None, 28, 28, 32)        0         \n",
      "_________________________________________________________________\n",
      "conv2d_1 (Conv2D)            (None, 9, 9, 64)          18496     \n",
      "_________________________________________________________________\n",
      "max_pooling2d_1 (MaxPooling2 (None, 3, 3, 64)          0         \n",
      "_________________________________________________________________\n",
      "flatten (Flatten)            (None, 576)               0         \n",
      "_________________________________________________________________\n",
      "dense (Dense)                (None, 128)               73856     \n",
      "_________________________________________________________________\n",
      "dense_1 (Dense)              (None, 64)                8256      \n",
      "_________________________________________________________________\n",
      "dense_2 (Dense)              (None, 1)                 65        \n",
      "=================================================================\n",
      "Total params: 101,569\n",
      "Trainable params: 101,569\n",
      "Non-trainable params: 0\n",
      "_________________________________________________________________\n",
      "None\n"
     ]
    }
   ],
   "source": [
    "from keras.models import Sequential\n",
    "from keras.layers import Convolution2D\n",
    "from keras.layers import MaxPooling2D\n",
    "from keras.layers import Flatten\n",
    "from keras.layers import Dense\n",
    "   # Initialising the CNN\n",
    "classifier = Sequential()\n",
    "  # Convolution\n",
    "classifier.add(Convolution2D(32, 3, 3, input_shape =(256,256,3), activation = 'relu'))\n",
    "#Pooling\n",
    "classifier.add(MaxPooling2D(pool_size = (3, 3)))\n",
    "classifier.add(Convolution2D(64, 3, 3, activation = 'relu'))\n",
    "classifier.add(MaxPooling2D(pool_size = (3, 3)))\n",
    "\n",
    "# Flattening\n",
    "classifier.add(Flatten())\n",
    "#full connection\n",
    "classifier.add(Dense(units=128, activation = 'relu'))\n",
    "classifier.add(Dense(units=64, activation = 'relu'))\n",
    "#classifier.add(Dense(output_dim = 5, activation = 'softmax'))\n",
    "classifier.add(Dense(units= 1, activation = 'sigmoid'))\n",
    "# Compiling the CNN\n",
    "classifier.compile(optimizer = 'adam', loss = 'binary_crossentropy', metrics = ['accuracy'])\n",
    "\n",
    "print(classifier.summary())\n"
   ]
  },
  {
   "cell_type": "code",
   "execution_count": 6,
   "id": "801d0acf",
   "metadata": {},
   "outputs": [
    {
     "name": "stdout",
     "output_type": "stream",
     "text": [
      "Epoch 1/15\n",
      "100/100 [==============================] - 91s 910ms/step - loss: 0.5906 - accuracy: 0.7036\n",
      "Epoch 2/15\n",
      "100/100 [==============================] - 75s 745ms/step - loss: 0.5467 - accuracy: 0.7093\n",
      "Epoch 3/15\n",
      "100/100 [==============================] - 67s 674ms/step - loss: 0.5085 - accuracy: 0.7287\n",
      "Epoch 4/15\n",
      "100/100 [==============================] - 68s 680ms/step - loss: 0.4724 - accuracy: 0.7337\n",
      "Epoch 5/15\n",
      "100/100 [==============================] - 65s 651ms/step - loss: 0.4684 - accuracy: 0.7569\n",
      "Epoch 6/15\n",
      "100/100 [==============================] - 67s 669ms/step - loss: 0.4480 - accuracy: 0.7719\n",
      "Epoch 7/15\n",
      "100/100 [==============================] - 66s 665ms/step - loss: 0.4365 - accuracy: 0.7732\n",
      "Epoch 8/15\n",
      "100/100 [==============================] - 66s 656ms/step - loss: 0.4170 - accuracy: 0.7838\n",
      "Epoch 9/15\n",
      "100/100 [==============================] - 63s 632ms/step - loss: 0.4164 - accuracy: 0.7788\n",
      "Epoch 10/15\n",
      "100/100 [==============================] - 63s 633ms/step - loss: 0.4037 - accuracy: 0.7869\n",
      "Epoch 11/15\n",
      "100/100 [==============================] - 63s 630ms/step - loss: 0.4148 - accuracy: 0.7901\n",
      "Epoch 12/15\n",
      "100/100 [==============================] - 63s 634ms/step - loss: 0.3907 - accuracy: 0.7962\n",
      "Epoch 13/15\n",
      "100/100 [==============================] - 63s 633ms/step - loss: 0.3969 - accuracy: 0.8014\n",
      "Epoch 14/15\n",
      "100/100 [==============================] - 63s 632ms/step - loss: 0.3922 - accuracy: 0.8056\n",
      "Epoch 15/15\n",
      "100/100 [==============================] - 63s 634ms/step - loss: 0.3790 - accuracy: 0.8062\n"
     ]
    }
   ],
   "source": [
    "history=classifier.fit(training,epochs=15,steps_per_epoch=100)#training the model"
   ]
  },
  {
   "cell_type": "code",
   "execution_count": null,
   "id": "52fef93b",
   "metadata": {},
   "outputs": [],
   "source": [
    "from keras.models import load_model\n",
    "classifier.save('trail_1.h5')"
   ]
  }
 ],
 "metadata": {
  "kernelspec": {
   "display_name": "Python 3",
   "language": "python",
   "name": "python3"
  },
  "language_info": {
   "codemirror_mode": {
    "name": "ipython",
    "version": 3
   },
   "file_extension": ".py",
   "mimetype": "text/x-python",
   "name": "python",
   "nbconvert_exporter": "python",
   "pygments_lexer": "ipython3",
   "version": "3.8.5"
  }
 },
 "nbformat": 4,
 "nbformat_minor": 5
}
